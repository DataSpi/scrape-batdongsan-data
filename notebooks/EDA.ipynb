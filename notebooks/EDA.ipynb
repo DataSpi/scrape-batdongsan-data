{
 "cells": [
  {
   "cell_type": "code",
   "execution_count": 51,
   "id": "ee80fd1e",
   "metadata": {},
   "outputs": [],
   "source": [
    "\"\"\" \n",
    "This is just a script for me to do some tests with supabase\n",
    "\"\"\"\n",
    "\n",
    "from supabase import create_client, Client\n",
    "import pandas as pd\n",
    "import numpy as np\n",
    "import os\n",
    "from dotenv import load_dotenv\n",
    "load_dotenv(\"../src/.env\")  # Load .env from src folder\n",
    "\n",
    "\n",
    "url: str = os.getenv(\"SUPABASE_PRJ_URL\")\n",
    "key: str = os.getenv(\"supabase_anon_key\")\n",
    "\n",
    "\n",
    "\n",
    "supabase: Client = create_client(url, key)\n",
    "\n",
    "response = supabase.table(\"real_estate\").select(\"*\").execute()\n",
    "df = pd.DataFrame(response.data)\n"
   ]
  },
  {
   "cell_type": "code",
   "execution_count": 52,
   "id": "e6c6e95a",
   "metadata": {},
   "outputs": [
    {
     "name": "stdout",
     "output_type": "stream",
     "text": [
      "Index(['unique_id', 'title', 'link', 'bedrooms', 'toilets', 'location',\n",
      "       'description', 'agent_name', 'phone', 'price', 'area', 'price_1m2',\n",
      "       'image_1', 'image_2', 'image_3', 'image_4', 'image_5', 'image_6',\n",
      "       'image_7', 'time_scraped', 'project', 'real_estate_type'],\n",
      "      dtype='object')\n",
      "2025-09-24T00:00:00+00:00\n"
     ]
    }
   ],
   "source": [
    "print(df.columns)\n",
    "print(df.time_scraped.max())"
   ]
  },
  {
   "cell_type": "code",
   "execution_count": 44,
   "id": "95eb0d32",
   "metadata": {},
   "outputs": [
    {
     "name": "stdout",
     "output_type": "stream",
     "text": [
      "total records: 367\n"
     ]
    },
    {
     "data": {
      "application/vnd.microsoft.datawrangler.viewer.v0+json": {
       "columns": [
        {
         "name": "location",
         "rawType": "object",
         "type": "string"
        },
        {
         "name": "count",
         "rawType": "int64",
         "type": "integer"
        }
       ],
       "ref": "4405c79e-8b3e-4fa8-99ea-1fb4d4837376",
       "rows": [
        [
         "Quận 9, Hồ Chí Minh",
         "108"
        ],
        [
         "Quận 2, Hồ Chí Minh",
         "70"
        ],
        [
         "Quận 7, Hồ Chí Minh",
         "45"
        ],
        [
         "Bình Thạnh, Hồ Chí Minh",
         "37"
        ],
        [
         "Tân Phú, Hồ Chí Minh",
         "24"
        ],
        [
         "Quận 1, Hồ Chí Minh",
         "18"
        ],
        [
         "Bình Tân, Hồ Chí Minh",
         "17"
        ],
        [
         "Bình Chánh, Hồ Chí Minh",
         "13"
        ],
        [
         "·",
         "7"
        ],
        [
         "Thủ Đức, Hồ Chí Minh",
         "5"
        ],
        [
         "Nhà Bè, Hồ Chí Minh",
         "4"
        ],
        [
         "Quận 4, Hồ Chí Minh",
         "4"
        ],
        [
         "Hóc Môn, Hồ Chí Minh",
         "4"
        ],
        [
         "Quận 6, Hồ Chí Minh",
         "3"
        ],
        [
         "Quận 3, Hồ Chí Minh",
         "3"
        ],
        [
         "Quận 5, Hồ Chí Minh",
         "2"
        ],
        [
         "Quận 10, Hồ Chí Minh",
         "2"
        ],
        [
         "Tân Bình, Hồ Chí Minh",
         "1"
        ]
       ],
       "shape": {
        "columns": 1,
        "rows": 18
       }
      },
      "text/plain": [
       "location\n",
       "Quận 9, Hồ Chí Minh        108\n",
       "Quận 2, Hồ Chí Minh         70\n",
       "Quận 7, Hồ Chí Minh         45\n",
       "Bình Thạnh, Hồ Chí Minh     37\n",
       "Tân Phú, Hồ Chí Minh        24\n",
       "Quận 1, Hồ Chí Minh         18\n",
       "Bình Tân, Hồ Chí Minh       17\n",
       "Bình Chánh, Hồ Chí Minh     13\n",
       "·                            7\n",
       "Thủ Đức, Hồ Chí Minh         5\n",
       "Nhà Bè, Hồ Chí Minh          4\n",
       "Quận 4, Hồ Chí Minh          4\n",
       "Hóc Môn, Hồ Chí Minh         4\n",
       "Quận 6, Hồ Chí Minh          3\n",
       "Quận 3, Hồ Chí Minh          3\n",
       "Quận 5, Hồ Chí Minh          2\n",
       "Quận 10, Hồ Chí Minh         2\n",
       "Tân Bình, Hồ Chí Minh        1\n",
       "Name: count, dtype: int64"
      ]
     },
     "execution_count": 44,
     "metadata": {},
     "output_type": "execute_result"
    }
   ],
   "source": [
    "print(f\"total records: {len(df)}\")\n",
    "df['location'].value_counts()"
   ]
  },
  {
   "cell_type": "code",
   "execution_count": 47,
   "id": "8bafede5",
   "metadata": {},
   "outputs": [
    {
     "data": {
      "application/vnd.microsoft.datawrangler.viewer.v0+json": {
       "columns": [
        {
         "name": "location",
         "rawType": "object",
         "type": "string"
        },
        {
         "name": "price_num",
         "rawType": "float64",
         "type": "float"
        },
        {
         "name": "area_num",
         "rawType": "float64",
         "type": "float"
        },
        {
         "name": "price_1m2",
         "rawType": "float64",
         "type": "float"
        }
       ],
       "ref": "1af21a9c-d54f-4cf5-901c-9959dfb56403",
       "rows": [
        [
         "·",
         "15150.0",
         "93.21714285714286",
         "177.56399774029887"
        ],
        [
         "Quận 1, Hồ Chí Minh",
         "14027.222222222223",
         "62.281666666666666",
         "171.67930121957195"
        ],
        [
         "Quận 2, Hồ Chí Minh",
         "14880.0",
         "106.58542857142858",
         "137.26272511932697"
        ],
        [
         "Bình Thạnh, Hồ Chí Minh",
         "11351.324324324325",
         "96.33243243243244",
         "105.01274188457248"
        ],
        [
         "Quận 10, Hồ Chí Minh",
         "8650.0",
         "86.0",
         "97.1288515406163"
        ],
        [
         "Quận 4, Hồ Chí Minh",
         "6587.5",
         "80.205",
         "81.24445250955836"
        ],
        [
         "Tân Phú, Hồ Chí Minh",
         "8360.416666666666",
         "112.40833333333335",
         "75.1687998097003"
        ],
        [
         "Quận 7, Hồ Chí Minh",
         "6593.555555555556",
         "89.65355555555556",
         "72.44489707741482"
        ],
        [
         "Quận 3, Hồ Chí Minh",
         "4266.666666666667",
         "53.63333333333333",
         "72.0963093729255"
        ],
        [
         "Thủ Đức, Hồ Chí Minh",
         "4329.8",
         "69.96000000000001",
         "61.939584300443336"
        ],
        [
         "Quận 9, Hồ Chí Minh",
         "4124.87037037037",
         "69.01944444444445",
         "58.06843952931385"
        ],
        [
         "Bình Tân, Hồ Chí Minh",
         "3734.1176470588234",
         "65.9235294117647",
         "56.65903994753031"
        ],
        [
         "Nhà Bè, Hồ Chí Minh",
         "2600.0",
         "47.0",
         "56.196887062034826"
        ],
        [
         "Quận 6, Hồ Chí Minh",
         "4666.666666666667",
         "91.0",
         "52.0248814650485"
        ],
        [
         "Tân Bình, Hồ Chí Minh",
         "1550.0",
         "32.0",
         "48.4375"
        ],
        [
         "Quận 5, Hồ Chí Minh",
         "2525.0",
         "52.5",
         "48.4090909090909"
        ],
        [
         "Bình Chánh, Hồ Chí Minh",
         "2106.153846153846",
         "61.62615384615385",
         "33.331765022909295"
        ],
        [
         "Hóc Môn, Hồ Chí Minh",
         "1275.0",
         "63.5",
         "20.246201220214125"
        ]
       ],
       "shape": {
        "columns": 3,
        "rows": 18
       }
      },
      "text/html": [
       "<div>\n",
       "<style scoped>\n",
       "    .dataframe tbody tr th:only-of-type {\n",
       "        vertical-align: middle;\n",
       "    }\n",
       "\n",
       "    .dataframe tbody tr th {\n",
       "        vertical-align: top;\n",
       "    }\n",
       "\n",
       "    .dataframe thead th {\n",
       "        text-align: right;\n",
       "    }\n",
       "</style>\n",
       "<table border=\"1\" class=\"dataframe\">\n",
       "  <thead>\n",
       "    <tr style=\"text-align: right;\">\n",
       "      <th></th>\n",
       "      <th>price_num</th>\n",
       "      <th>area_num</th>\n",
       "      <th>price_1m2</th>\n",
       "    </tr>\n",
       "    <tr>\n",
       "      <th>location</th>\n",
       "      <th></th>\n",
       "      <th></th>\n",
       "      <th></th>\n",
       "    </tr>\n",
       "  </thead>\n",
       "  <tbody>\n",
       "    <tr>\n",
       "      <th>·</th>\n",
       "      <td>15150.000000</td>\n",
       "      <td>93.217143</td>\n",
       "      <td>177.563998</td>\n",
       "    </tr>\n",
       "    <tr>\n",
       "      <th>Quận 1, Hồ Chí Minh</th>\n",
       "      <td>14027.222222</td>\n",
       "      <td>62.281667</td>\n",
       "      <td>171.679301</td>\n",
       "    </tr>\n",
       "    <tr>\n",
       "      <th>Quận 2, Hồ Chí Minh</th>\n",
       "      <td>14880.000000</td>\n",
       "      <td>106.585429</td>\n",
       "      <td>137.262725</td>\n",
       "    </tr>\n",
       "    <tr>\n",
       "      <th>Bình Thạnh, Hồ Chí Minh</th>\n",
       "      <td>11351.324324</td>\n",
       "      <td>96.332432</td>\n",
       "      <td>105.012742</td>\n",
       "    </tr>\n",
       "    <tr>\n",
       "      <th>Quận 10, Hồ Chí Minh</th>\n",
       "      <td>8650.000000</td>\n",
       "      <td>86.000000</td>\n",
       "      <td>97.128852</td>\n",
       "    </tr>\n",
       "    <tr>\n",
       "      <th>Quận 4, Hồ Chí Minh</th>\n",
       "      <td>6587.500000</td>\n",
       "      <td>80.205000</td>\n",
       "      <td>81.244453</td>\n",
       "    </tr>\n",
       "    <tr>\n",
       "      <th>Tân Phú, Hồ Chí Minh</th>\n",
       "      <td>8360.416667</td>\n",
       "      <td>112.408333</td>\n",
       "      <td>75.168800</td>\n",
       "    </tr>\n",
       "    <tr>\n",
       "      <th>Quận 7, Hồ Chí Minh</th>\n",
       "      <td>6593.555556</td>\n",
       "      <td>89.653556</td>\n",
       "      <td>72.444897</td>\n",
       "    </tr>\n",
       "    <tr>\n",
       "      <th>Quận 3, Hồ Chí Minh</th>\n",
       "      <td>4266.666667</td>\n",
       "      <td>53.633333</td>\n",
       "      <td>72.096309</td>\n",
       "    </tr>\n",
       "    <tr>\n",
       "      <th>Thủ Đức, Hồ Chí Minh</th>\n",
       "      <td>4329.800000</td>\n",
       "      <td>69.960000</td>\n",
       "      <td>61.939584</td>\n",
       "    </tr>\n",
       "    <tr>\n",
       "      <th>Quận 9, Hồ Chí Minh</th>\n",
       "      <td>4124.870370</td>\n",
       "      <td>69.019444</td>\n",
       "      <td>58.068440</td>\n",
       "    </tr>\n",
       "    <tr>\n",
       "      <th>Bình Tân, Hồ Chí Minh</th>\n",
       "      <td>3734.117647</td>\n",
       "      <td>65.923529</td>\n",
       "      <td>56.659040</td>\n",
       "    </tr>\n",
       "    <tr>\n",
       "      <th>Nhà Bè, Hồ Chí Minh</th>\n",
       "      <td>2600.000000</td>\n",
       "      <td>47.000000</td>\n",
       "      <td>56.196887</td>\n",
       "    </tr>\n",
       "    <tr>\n",
       "      <th>Quận 6, Hồ Chí Minh</th>\n",
       "      <td>4666.666667</td>\n",
       "      <td>91.000000</td>\n",
       "      <td>52.024881</td>\n",
       "    </tr>\n",
       "    <tr>\n",
       "      <th>Tân Bình, Hồ Chí Minh</th>\n",
       "      <td>1550.000000</td>\n",
       "      <td>32.000000</td>\n",
       "      <td>48.437500</td>\n",
       "    </tr>\n",
       "    <tr>\n",
       "      <th>Quận 5, Hồ Chí Minh</th>\n",
       "      <td>2525.000000</td>\n",
       "      <td>52.500000</td>\n",
       "      <td>48.409091</td>\n",
       "    </tr>\n",
       "    <tr>\n",
       "      <th>Bình Chánh, Hồ Chí Minh</th>\n",
       "      <td>2106.153846</td>\n",
       "      <td>61.626154</td>\n",
       "      <td>33.331765</td>\n",
       "    </tr>\n",
       "    <tr>\n",
       "      <th>Hóc Môn, Hồ Chí Minh</th>\n",
       "      <td>1275.000000</td>\n",
       "      <td>63.500000</td>\n",
       "      <td>20.246201</td>\n",
       "    </tr>\n",
       "  </tbody>\n",
       "</table>\n",
       "</div>"
      ],
      "text/plain": [
       "                            price_num    area_num   price_1m2\n",
       "location                                                     \n",
       "·                        15150.000000   93.217143  177.563998\n",
       "Quận 1, Hồ Chí Minh      14027.222222   62.281667  171.679301\n",
       "Quận 2, Hồ Chí Minh      14880.000000  106.585429  137.262725\n",
       "Bình Thạnh, Hồ Chí Minh  11351.324324   96.332432  105.012742\n",
       "Quận 10, Hồ Chí Minh      8650.000000   86.000000   97.128852\n",
       "Quận 4, Hồ Chí Minh       6587.500000   80.205000   81.244453\n",
       "Tân Phú, Hồ Chí Minh      8360.416667  112.408333   75.168800\n",
       "Quận 7, Hồ Chí Minh       6593.555556   89.653556   72.444897\n",
       "Quận 3, Hồ Chí Minh       4266.666667   53.633333   72.096309\n",
       "Thủ Đức, Hồ Chí Minh      4329.800000   69.960000   61.939584\n",
       "Quận 9, Hồ Chí Minh       4124.870370   69.019444   58.068440\n",
       "Bình Tân, Hồ Chí Minh     3734.117647   65.923529   56.659040\n",
       "Nhà Bè, Hồ Chí Minh       2600.000000   47.000000   56.196887\n",
       "Quận 6, Hồ Chí Minh       4666.666667   91.000000   52.024881\n",
       "Tân Bình, Hồ Chí Minh     1550.000000   32.000000   48.437500\n",
       "Quận 5, Hồ Chí Minh       2525.000000   52.500000   48.409091\n",
       "Bình Chánh, Hồ Chí Minh   2106.153846   61.626154   33.331765\n",
       "Hóc Môn, Hồ Chí Minh      1275.000000   63.500000   20.246201"
      ]
     },
     "execution_count": 47,
     "metadata": {},
     "output_type": "execute_result"
    }
   ],
   "source": [
    "df.groupby('location').agg(\n",
    "    {\n",
    "        'price_num': np.mean, \n",
    "        'area_num': np.mean,\n",
    "        'price_1m2': np.mean\n",
    "    }\n",
    ").sort_values(by='price_1m2', ascending=False)"
   ]
  },
  {
   "cell_type": "code",
   "execution_count": null,
   "id": "71aa1af6",
   "metadata": {},
   "outputs": [
    {
     "data": {
      "application/vnd.microsoft.datawrangler.viewer.v0+json": {
       "columns": [
        {
         "name": "index",
         "rawType": "int64",
         "type": "integer"
        },
        {
         "name": "unique_id",
         "rawType": "object",
         "type": "string"
        },
        {
         "name": "title",
         "rawType": "object",
         "type": "string"
        },
        {
         "name": "link",
         "rawType": "object",
         "type": "string"
        },
        {
         "name": "bedrooms",
         "rawType": "int64",
         "type": "integer"
        },
        {
         "name": "toilets",
         "rawType": "int64",
         "type": "integer"
        },
        {
         "name": "location",
         "rawType": "object",
         "type": "string"
        },
        {
         "name": "description",
         "rawType": "object",
         "type": "unknown"
        },
        {
         "name": "agent_name",
         "rawType": "object",
         "type": "string"
        },
        {
         "name": "phone",
         "rawType": "object",
         "type": "unknown"
        },
        {
         "name": "price_num",
         "rawType": "int64",
         "type": "integer"
        },
        {
         "name": "area_num",
         "rawType": "float64",
         "type": "float"
        },
        {
         "name": "price_per_m2_recal",
         "rawType": "float64",
         "type": "float"
        },
        {
         "name": "image_1",
         "rawType": "object",
         "type": "string"
        },
        {
         "name": "image_2",
         "rawType": "object",
         "type": "string"
        },
        {
         "name": "image_3",
         "rawType": "object",
         "type": "unknown"
        },
        {
         "name": "image_4",
         "rawType": "object",
         "type": "unknown"
        },
        {
         "name": "image_5",
         "rawType": "object",
         "type": "unknown"
        },
        {
         "name": "image_6",
         "rawType": "object",
         "type": "unknown"
        },
        {
         "name": "image_7",
         "rawType": "object",
         "type": "unknown"
        },
        {
         "name": "time_scraped",
         "rawType": "object",
         "type": "string"
        },
        {
         "name": "project",
         "rawType": "object",
         "type": "unknown"
        },
        {
         "name": "real_estate_type",
         "rawType": "object",
         "type": "string"
        }
       ],
       "ref": "3d123ae1-f6b5-424b-9276-0dc0383d6c95",
       "rows": [
        [
         "9",
         "pr43531044",
         "Giảm 500 triệu - chính chủ cần bán căn hộ chung cư 109 Nguyễn Biểu Phường 1, Quận 5",
         "https://batdongsan.com.vn/ban-can-ho-chung-cu-duong-nguyen-bieu-phuong-1-15/giam-500tr-chinh-chu-ban-109-1-quan-5-pr43531044",
         "2",
         "2",
         "Quận 5, Hồ Chí Minh",
         null,
         "‎Đăng Nhựt",
         null,
         "2750",
         "50.0",
         "55.0",
         "nan",
         "nan",
         null,
         null,
         null,
         null,
         null,
         "2025-09-02T00:00:00+00:00",
         null,
         "Căn hộ chung cư"
        ],
        [
         "316",
         "pr43991787",
         "Giảm 500 tr cần bán chung cư Nguyễn Trãi",
         "https://batdongsan.com.vn/ban-can-ho-chung-cu-duong-nguyen-trai-phuong-14-2/giam-500-tr-ban-trai-pr43991787",
         "2",
         "2",
         "Quận 5, Hồ Chí Minh",
         null,
         "‎Nguyễn Văn Ước",
         null,
         "2300",
         "55.0",
         "41.8181818181818",
         "=IMAGE(\"https://file4.batdongsan.com.vn/resize/200x200/2025/06/05/20250605142017-9d34.jpg\", 4, 200, 200)",
         "",
         null,
         null,
         null,
         null,
         null,
         "2025-09-15T00:00:00+00:00",
         null,
         "Căn hộ chung cư"
        ]
       ],
       "shape": {
        "columns": 22,
        "rows": 2
       }
      },
      "text/html": [
       "<div>\n",
       "<style scoped>\n",
       "    .dataframe tbody tr th:only-of-type {\n",
       "        vertical-align: middle;\n",
       "    }\n",
       "\n",
       "    .dataframe tbody tr th {\n",
       "        vertical-align: top;\n",
       "    }\n",
       "\n",
       "    .dataframe thead th {\n",
       "        text-align: right;\n",
       "    }\n",
       "</style>\n",
       "<table border=\"1\" class=\"dataframe\">\n",
       "  <thead>\n",
       "    <tr style=\"text-align: right;\">\n",
       "      <th></th>\n",
       "      <th>unique_id</th>\n",
       "      <th>title</th>\n",
       "      <th>link</th>\n",
       "      <th>bedrooms</th>\n",
       "      <th>toilets</th>\n",
       "      <th>location</th>\n",
       "      <th>description</th>\n",
       "      <th>agent_name</th>\n",
       "      <th>phone</th>\n",
       "      <th>price_num</th>\n",
       "      <th>...</th>\n",
       "      <th>image_1</th>\n",
       "      <th>image_2</th>\n",
       "      <th>image_3</th>\n",
       "      <th>image_4</th>\n",
       "      <th>image_5</th>\n",
       "      <th>image_6</th>\n",
       "      <th>image_7</th>\n",
       "      <th>time_scraped</th>\n",
       "      <th>project</th>\n",
       "      <th>real_estate_type</th>\n",
       "    </tr>\n",
       "  </thead>\n",
       "  <tbody>\n",
       "    <tr>\n",
       "      <th>9</th>\n",
       "      <td>pr43531044</td>\n",
       "      <td>Giảm 500 triệu - chính chủ cần bán căn hộ chun...</td>\n",
       "      <td>https://batdongsan.com.vn/ban-can-ho-chung-cu-...</td>\n",
       "      <td>2</td>\n",
       "      <td>2</td>\n",
       "      <td>Quận 5, Hồ Chí Minh</td>\n",
       "      <td>None</td>\n",
       "      <td>‎Đăng Nhựt</td>\n",
       "      <td>None</td>\n",
       "      <td>2750</td>\n",
       "      <td>...</td>\n",
       "      <td>nan</td>\n",
       "      <td>nan</td>\n",
       "      <td>None</td>\n",
       "      <td>None</td>\n",
       "      <td>None</td>\n",
       "      <td>None</td>\n",
       "      <td>None</td>\n",
       "      <td>2025-09-02T00:00:00+00:00</td>\n",
       "      <td>None</td>\n",
       "      <td>Căn hộ chung cư</td>\n",
       "    </tr>\n",
       "    <tr>\n",
       "      <th>316</th>\n",
       "      <td>pr43991787</td>\n",
       "      <td>Giảm 500 tr cần bán chung cư Nguyễn Trãi</td>\n",
       "      <td>https://batdongsan.com.vn/ban-can-ho-chung-cu-...</td>\n",
       "      <td>2</td>\n",
       "      <td>2</td>\n",
       "      <td>Quận 5, Hồ Chí Minh</td>\n",
       "      <td>None</td>\n",
       "      <td>‎Nguyễn Văn Ước</td>\n",
       "      <td>None</td>\n",
       "      <td>2300</td>\n",
       "      <td>...</td>\n",
       "      <td>=IMAGE(\"https://file4.batdongsan.com.vn/resize...</td>\n",
       "      <td></td>\n",
       "      <td>None</td>\n",
       "      <td>None</td>\n",
       "      <td>None</td>\n",
       "      <td>None</td>\n",
       "      <td>None</td>\n",
       "      <td>2025-09-15T00:00:00+00:00</td>\n",
       "      <td>None</td>\n",
       "      <td>Căn hộ chung cư</td>\n",
       "    </tr>\n",
       "  </tbody>\n",
       "</table>\n",
       "<p>2 rows × 22 columns</p>\n",
       "</div>"
      ],
      "text/plain": [
       "      unique_id                                              title  \\\n",
       "9    pr43531044  Giảm 500 triệu - chính chủ cần bán căn hộ chun...   \n",
       "316  pr43991787           Giảm 500 tr cần bán chung cư Nguyễn Trãi   \n",
       "\n",
       "                                                  link  bedrooms  toilets  \\\n",
       "9    https://batdongsan.com.vn/ban-can-ho-chung-cu-...         2        2   \n",
       "316  https://batdongsan.com.vn/ban-can-ho-chung-cu-...         2        2   \n",
       "\n",
       "                location description         agent_name phone  price_num  ...  \\\n",
       "9    Quận 5, Hồ Chí Minh        None         ‎Đăng Nhựt  None       2750  ...   \n",
       "316  Quận 5, Hồ Chí Minh        None  ‎Nguyễn Văn Ước  None       2300  ...   \n",
       "\n",
       "                                               image_1  image_2 image_3  \\\n",
       "9                                                  nan      nan    None   \n",
       "316  =IMAGE(\"https://file4.batdongsan.com.vn/resize...             None   \n",
       "\n",
       "    image_4 image_5 image_6 image_7               time_scraped project  \\\n",
       "9      None    None    None    None  2025-09-02T00:00:00+00:00    None   \n",
       "316    None    None    None    None  2025-09-15T00:00:00+00:00    None   \n",
       "\n",
       "    real_estate_type  \n",
       "9    Căn hộ chung cư  \n",
       "316  Căn hộ chung cư  \n",
       "\n",
       "[2 rows x 22 columns]"
      ]
     },
     "execution_count": 33,
     "metadata": {},
     "output_type": "execute_result"
    }
   ],
   "source": [
    "df.query(\"location.str.contains('Quận 5')\").sort_values(by='price_per_m2_recal', ascending=False).head(10)"
   ]
  },
  {
   "cell_type": "code",
   "execution_count": 49,
   "id": "6c8d4732",
   "metadata": {},
   "outputs": [
    {
     "name": "stdout",
     "output_type": "stream",
     "text": [
      "count      367.000000\n",
      "mean      8087.313351\n",
      "std       8727.960286\n",
      "min       1080.000000\n",
      "25%       3180.000000\n",
      "50%       5150.000000\n",
      "75%       9600.000000\n",
      "max      85000.000000\n",
      "Name: price_num, dtype: float64\n",
      "count    367.000000\n",
      "mean      83.821635\n",
      "std       41.938307\n",
      "min       22.010000\n",
      "25%       59.000000\n",
      "50%       74.000000\n",
      "75%       98.000000\n",
      "max      403.100000\n",
      "Name: area_num, dtype: float64\n",
      "count    367.000000\n",
      "mean      87.769325\n",
      "std       61.074035\n",
      "min       18.571429\n",
      "25%       54.117232\n",
      "50%       67.678571\n",
      "75%       96.525793\n",
      "max      467.903464\n",
      "Name: price_1m2, dtype: float64\n"
     ]
    }
   ],
   "source": [
    "print(df.price_num.describe())\n",
    "print(df.area_num.describe())\n",
    "print(df.price_1m2.describe())\n"
   ]
  },
  {
   "cell_type": "code",
   "execution_count": 28,
   "id": "10ec13b4",
   "metadata": {},
   "outputs": [
    {
     "data": {
      "application/vnd.microsoft.datawrangler.viewer.v0+json": {
       "columns": [
        {
         "name": "index",
         "rawType": "object",
         "type": "string"
        },
        {
         "name": "0",
         "rawType": "float64",
         "type": "float"
        }
       ],
       "ref": "7f900705-b259-45c6-bdcb-e21e9bc03f0e",
       "rows": [
        [
         "count",
         "367.0"
        ],
        [
         "mean",
         "87.76932510568786"
        ],
        [
         "std",
         "61.074035421432036"
        ],
        [
         "min",
         "18.571428571428573"
        ],
        [
         "25%",
         "54.117231638418076"
        ],
        [
         "50%",
         "67.67857142857143"
        ],
        [
         "75%",
         "96.52579335238381"
        ],
        [
         "max",
         "467.9034641274011"
        ]
       ],
       "shape": {
        "columns": 1,
        "rows": 8
       }
      },
      "text/plain": [
       "count    367.000000\n",
       "mean      87.769325\n",
       "std       61.074035\n",
       "min       18.571429\n",
       "25%       54.117232\n",
       "50%       67.678571\n",
       "75%       96.525793\n",
       "max      467.903464\n",
       "dtype: float64"
      ]
     },
     "execution_count": 28,
     "metadata": {},
     "output_type": "execute_result"
    }
   ],
   "source": [
    "(df.price_num / df.area_num).describe()"
   ]
  },
  {
   "cell_type": "code",
   "execution_count": null,
   "id": "ab08aafb",
   "metadata": {},
   "outputs": [],
   "source": []
  }
 ],
 "metadata": {
  "kernelspec": {
   "display_name": "learning_ds",
   "language": "python",
   "name": "python3"
  },
  "language_info": {
   "codemirror_mode": {
    "name": "ipython",
    "version": 3
   },
   "file_extension": ".py",
   "mimetype": "text/x-python",
   "name": "python",
   "nbconvert_exporter": "python",
   "pygments_lexer": "ipython3",
   "version": "3.11.4"
  }
 },
 "nbformat": 4,
 "nbformat_minor": 5
}
