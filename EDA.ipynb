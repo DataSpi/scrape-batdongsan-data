{
 "cells": [
  {
   "cell_type": "code",
   "execution_count": 2,
   "id": "ee80fd1e",
   "metadata": {},
   "outputs": [],
   "source": [
    "\"\"\" \n",
    "This is just a script for me to do some tests with supabase\n",
    "\"\"\"\n",
    "\n",
    "from supabase import create_client, Client\n",
    "import os\n",
    "import pandas as pd\n",
    "import numpy as np\n",
    "\n",
    "\n",
    "# Get your credentials from environment variables\n",
    "url: str = os.getenv(\"SUPABASE_PRJ_URL\")\n",
    "key: str = os.getenv(\"supabase_anon_key\")\n",
    "\n",
    "supabase: Client = create_client(url, key)\n",
    "\n",
    "response = supabase.table(\"real_estate\").select(\"*\").execute()\n",
    "df = pd.DataFrame(response.data)\n"
   ]
  },
  {
   "cell_type": "code",
   "execution_count": 3,
   "id": "95eb0d32",
   "metadata": {},
   "outputs": [
    {
     "data": {
      "application/vnd.microsoft.datawrangler.viewer.v0+json": {
       "columns": [
        {
         "name": "location",
         "rawType": "object",
         "type": "string"
        },
        {
         "name": "count",
         "rawType": "int64",
         "type": "integer"
        }
       ],
       "ref": "7e593c5b-0b03-4f89-9ba7-8c1a53ddfd6d",
       "rows": [
        [
         "Quận 9, Hồ Chí Minh",
         "75"
        ],
        [
         "Quận 2, Hồ Chí Minh",
         "54"
        ],
        [
         "Quận 7, Hồ Chí Minh",
         "33"
        ],
        [
         "Bình Thạnh, Hồ Chí Minh",
         "24"
        ],
        [
         "Tân Phú, Hồ Chí Minh",
         "24"
        ],
        [
         "Quận 1, Hồ Chí Minh",
         "13"
        ],
        [
         "Bình Chánh, Hồ Chí Minh",
         "12"
        ],
        [
         "Bình Tân, Hồ Chí Minh",
         "11"
        ],
        [
         "·",
         "6"
        ],
        [
         "Thủ Đức, Hồ Chí Minh",
         "5"
        ],
        [
         "Quận 4, Hồ Chí Minh",
         "4"
        ],
        [
         "Hóc Môn, Hồ Chí Minh",
         "4"
        ],
        [
         "Quận 6, Hồ Chí Minh",
         "3"
        ],
        [
         "Nhà Bè, Hồ Chí Minh",
         "2"
        ],
        [
         "Quận 3, Hồ Chí Minh",
         "2"
        ],
        [
         "Tân Bình, Hồ Chí Minh",
         "1"
        ],
        [
         "Quận 5, Hồ Chí Minh",
         "1"
        ],
        [
         "Quận 10, Hồ Chí Minh",
         "1"
        ]
       ],
       "shape": {
        "columns": 1,
        "rows": 18
       }
      },
      "text/plain": [
       "location\n",
       "Quận 9, Hồ Chí Minh        75\n",
       "Quận 2, Hồ Chí Minh        54\n",
       "Quận 7, Hồ Chí Minh        33\n",
       "Bình Thạnh, Hồ Chí Minh    24\n",
       "Tân Phú, Hồ Chí Minh       24\n",
       "Quận 1, Hồ Chí Minh        13\n",
       "Bình Chánh, Hồ Chí Minh    12\n",
       "Bình Tân, Hồ Chí Minh      11\n",
       "·                           6\n",
       "Thủ Đức, Hồ Chí Minh        5\n",
       "Quận 4, Hồ Chí Minh         4\n",
       "Hóc Môn, Hồ Chí Minh        4\n",
       "Quận 6, Hồ Chí Minh         3\n",
       "Nhà Bè, Hồ Chí Minh         2\n",
       "Quận 3, Hồ Chí Minh         2\n",
       "Tân Bình, Hồ Chí Minh       1\n",
       "Quận 5, Hồ Chí Minh         1\n",
       "Quận 10, Hồ Chí Minh        1\n",
       "Name: count, dtype: int64"
      ]
     },
     "execution_count": 3,
     "metadata": {},
     "output_type": "execute_result"
    }
   ],
   "source": [
    "df['location'].value_counts()"
   ]
  },
  {
   "cell_type": "code",
   "execution_count": null,
   "id": "8bafede5",
   "metadata": {},
   "outputs": [],
   "source": []
  }
 ],
 "metadata": {
  "kernelspec": {
   "display_name": "learning_ds",
   "language": "python",
   "name": "python3"
  },
  "language_info": {
   "codemirror_mode": {
    "name": "ipython",
    "version": 3
   },
   "file_extension": ".py",
   "mimetype": "text/x-python",
   "name": "python",
   "nbconvert_exporter": "python",
   "pygments_lexer": "ipython3",
   "version": "3.11.4"
  }
 },
 "nbformat": 4,
 "nbformat_minor": 5
}
